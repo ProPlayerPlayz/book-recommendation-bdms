{
 "cells": [
  {
   "cell_type": "code",
   "execution_count": 1,
   "metadata": {},
   "outputs": [],
   "source": [
    "import pyspark as ps\n",
    "import numpy as np\n",
    "import socket\n",
    "import platform\n",
    "import pandas as pd\n",
    "from pyspark.sql import SQLContext\n",
    "from pyspark import SparkConf\n",
    "from pyspark.sql import SparkSession\n",
    "from pyspark import SparkContext\n",
    "from pyspark.ml.recommendation import ALS\n",
    "from pyspark.ml.evaluation import RegressionEvaluator\n",
    "from pyspark.ml.tuning import CrossValidator, ParamGridBuilder\n",
    "from pyspark.ml import Pipeline\n",
    "from pyspark.sql import Row\n",
    "from pyspark.sql.functions import udf, col, when\n",
    "import matplotlib.pyplot as plt"
   ]
  },
  {
   "cell_type": "code",
   "execution_count": 2,
   "metadata": {},
   "outputs": [
    {
     "name": "stderr",
     "output_type": "stream",
     "text": [
      "23/12/19 14:10:19 WARN Utils: Your hostname, macbooks-MacBook-Pro-2.local resolves to a loopback address: 127.0.0.1; using 10.12.67.138 instead (on interface en0)\n",
      "23/12/19 14:10:19 WARN Utils: Set SPARK_LOCAL_IP if you need to bind to another address\n",
      "Setting default log level to \"WARN\".\n",
      "To adjust logging level use sc.setLogLevel(newLevel). For SparkR, use setLogLevel(newLevel).\n",
      "23/12/19 14:10:19 WARN NativeCodeLoader: Unable to load native-hadoop library for your platform... using builtin-java classes where applicable\n",
      "23/12/19 14:10:20 WARN Utils: Service 'SparkUI' could not bind on port 4040. Attempting port 4041.\n",
      "/Users/parthvi/opt/anaconda3/lib/python3.9/site-packages/pyspark/sql/context.py:113: FutureWarning: Deprecated in 3.0.0. Use SparkSession.builder.getOrCreate() instead.\n",
      "  warnings.warn(\n"
     ]
    }
   ],
   "source": [
    "appName = \"Recommender system in Spark\"\n",
    "spark = ps.sql.SparkSession.builder\\\n",
    "            .master(\"local\") \\\n",
    "            .appName(\"Book Recommendation Engine\") \\\n",
    "            .getOrCreate()\n",
    "sc = spark.sparkContext\n",
    "sqlContext = SQLContext(sc)"
   ]
  },
  {
   "cell_type": "code",
   "execution_count": 3,
   "metadata": {},
   "outputs": [
    {
     "name": "stdout",
     "output_type": "stream",
     "text": [
      "Hostname :   macbooks-MacBook-Pro-2.local\n",
      "IP :  127.0.0.1\n"
     ]
    }
   ],
   "source": [
    "def get_Host_name_IP(): \n",
    "    try: \n",
    "        host_name = socket.gethostname() \n",
    "        host_ip = socket.gethostbyname(host_name) \n",
    "        print(\"Hostname :  \",host_name) \n",
    "        print(\"IP : \",host_ip) \n",
    "    except: \n",
    "        print(\"Unable to get Hostname and IP\")\n",
    "        \n",
    "get_Host_name_IP()"
   ]
  },
  {
   "cell_type": "code",
   "execution_count": 4,
   "metadata": {},
   "outputs": [
    {
     "name": "stdout",
     "output_type": "stream",
     "text": [
      "Computer Config\n",
      "System: Darwin\n",
      "Node Name: macbooks-MacBook-Pro-2.local\n",
      "Release: 23.1.0\n",
      "Version: Darwin Kernel Version 23.1.0: Mon Oct  9 21:27:27 PDT 2023; root:xnu-10002.41.9~6/RELEASE_X86_64\n",
      "Machine: x86_64\n",
      "Processor: i386\n"
     ]
    }
   ],
   "source": [
    "print(\"Computer Config\")\n",
    "system_conf = platform.uname()\n",
    "\n",
    "print(f\"System: {system_conf.system}\")\n",
    "print(f\"Node Name: {system_conf.node}\")\n",
    "print(f\"Release: {system_conf.release}\")\n",
    "print(f\"Version: {system_conf.version}\")\n",
    "print(f\"Machine: {system_conf.machine}\")\n",
    "print(f\"Processor: {system_conf.processor}\")"
   ]
  },
  {
   "cell_type": "code",
   "execution_count": 5,
   "metadata": {
    "scrolled": true
   },
   "outputs": [
    {
     "name": "stderr",
     "output_type": "stream",
     "text": [
      "[Stage 1:>                                                          (0 + 1) / 1]\r"
     ]
    },
    {
     "name": "stdout",
     "output_type": "stream",
     "text": [
      "root\n",
      " |-- book_id: integer (nullable = true)\n",
      " |-- user_id: integer (nullable = true)\n",
      " |-- rating: integer (nullable = true)\n",
      "\n"
     ]
    },
    {
     "name": "stderr",
     "output_type": "stream",
     "text": [
      "                                                                                \r"
     ]
    }
   ],
   "source": [
    "ratings = spark.read.csv(r\"/Users/parthvi/Desktop/B-16 BDMS Final Project Book Recommendation System/Book Recomendation System/dataset/ratings.csv\", header=True, inferSchema=True) \n",
    "ratings.printSchema()"
   ]
  },
  {
   "cell_type": "code",
   "execution_count": 6,
   "metadata": {},
   "outputs": [
    {
     "name": "stdout",
     "output_type": "stream",
     "text": [
      "+-------+-------+------+\n",
      "|book_id|user_id|rating|\n",
      "+-------+-------+------+\n",
      "|      1|    314|     5|\n",
      "|      1|    439|     3|\n",
      "|      1|    588|     5|\n",
      "|      1|   1169|     4|\n",
      "|      1|   1185|     4|\n",
      "|      1|   2077|     4|\n",
      "|      1|   2487|     4|\n",
      "|      1|   2900|     5|\n",
      "|      1|   3662|     4|\n",
      "|      1|   3922|     5|\n",
      "+-------+-------+------+\n",
      "only showing top 10 rows\n",
      "\n"
     ]
    }
   ],
   "source": [
    "ratings.show(10)"
   ]
  },
  {
   "cell_type": "code",
   "execution_count": 7,
   "metadata": {},
   "outputs": [
    {
     "name": "stdout",
     "output_type": "stream",
     "text": [
      "root\n",
      " |-- id: integer (nullable = true)\n",
      " |-- book_id: integer (nullable = true)\n",
      " |-- best_book_id: integer (nullable = true)\n",
      " |-- work_id: integer (nullable = true)\n",
      " |-- books_count: integer (nullable = true)\n",
      " |-- isbn: string (nullable = true)\n",
      " |-- isbn13: double (nullable = true)\n",
      " |-- authors: string (nullable = true)\n",
      " |-- original_publication_year: double (nullable = true)\n",
      " |-- original_title: string (nullable = true)\n",
      " |-- title: string (nullable = true)\n",
      " |-- language_code: string (nullable = true)\n",
      " |-- average_rating: string (nullable = true)\n",
      " |-- ratings_count: string (nullable = true)\n",
      " |-- work_ratings_count: string (nullable = true)\n",
      " |-- work_text_reviews_count: string (nullable = true)\n",
      " |-- ratings_1: double (nullable = true)\n",
      " |-- ratings_2: integer (nullable = true)\n",
      " |-- ratings_3: integer (nullable = true)\n",
      " |-- ratings_4: integer (nullable = true)\n",
      " |-- ratings_5: integer (nullable = true)\n",
      " |-- image_url: string (nullable = true)\n",
      " |-- small_image_url: string (nullable = true)\n",
      "\n"
     ]
    }
   ],
   "source": [
    "books = spark.read.csv(r\"/Users/parthvi/Desktop/B-16 BDMS Final Project Book Recommendation System/Book Recomendation System/dataset/books.csv\", header=True, inferSchema=True) \n",
    "books.printSchema()"
   ]
  },
  {
   "cell_type": "code",
   "execution_count": 8,
   "metadata": {},
   "outputs": [
    {
     "name": "stdout",
     "output_type": "stream",
     "text": [
      "+---+-------+------------+-------+-----------+---------+----------------+--------------------+-------------------------+--------------------+--------------------+-------------+--------------+-------------+------------------+-----------------------+---------+---------+---------+---------+---------+--------------------+--------------------+\n",
      "| id|book_id|best_book_id|work_id|books_count|     isbn|          isbn13|             authors|original_publication_year|      original_title|               title|language_code|average_rating|ratings_count|work_ratings_count|work_text_reviews_count|ratings_1|ratings_2|ratings_3|ratings_4|ratings_5|           image_url|     small_image_url|\n",
      "+---+-------+------------+-------+-----------+---------+----------------+--------------------+-------------------------+--------------------+--------------------+-------------+--------------+-------------+------------------+-----------------------+---------+---------+---------+---------+---------+--------------------+--------------------+\n",
      "|  1|2767052|     2767052|2792775|        272|439023483|9.78043902348E12|     Suzanne Collins|                   2008.0|    The Hunger Games|The Hunger Games ...|          eng|          4.34|      4780653|           4942365|                 155254|  66715.0|   127936|   560092|  1481305|  2706317|https://images.gr...|https://images.gr...|\n",
      "|  2|      3|           3|4640799|        491|439554934|9.78043955493E12|J.K. Rowling, Mar...|                   1997.0|Harry Potter and ...|Harry Potter and ...|          eng|          4.44|      4602479|           4800065|                  75867|  75504.0|   101676|   455024|  1156318|  3011543|https://images.gr...|https://images.gr...|\n",
      "|  3|  41865|       41865|3212258|        226|316015849|9.78031601584E12|     Stephenie Meyer|                   2005.0|            Twilight|Twilight (Twiligh...|        en-US|          3.57|      3866839|           3916824|                  95009| 456191.0|   436802|   793319|   875073|  1355439|https://images.gr...|https://images.gr...|\n",
      "|  4|   2657|        2657|3275794|        487| 61120081|9.78006112008E12|          Harper Lee|                   1960.0|To Kill a Mocking...|To Kill a Mocking...|          eng|          4.25|      3198671|           3340896|                  72586|  60427.0|   117415|   446835|  1001952|  1714267|https://images.gr...|https://images.gr...|\n",
      "|  5|   4671|        4671| 245494|       1356|743273567|9.78074327356E12| F. Scott Fitzgerald|                   1925.0|    The Great Gatsby|    The Great Gatsby|          eng|          3.89|      2683664|           2773745|                  51992|  86236.0|   197621|   606158|   936012|   947718|https://images.gr...|https://images.gr...|\n",
      "+---+-------+------------+-------+-----------+---------+----------------+--------------------+-------------------------+--------------------+--------------------+-------------+--------------+-------------+------------------+-----------------------+---------+---------+---------+---------+---------+--------------------+--------------------+\n",
      "only showing top 5 rows\n",
      "\n"
     ]
    }
   ],
   "source": [
    "books.show(5)"
   ]
  },
  {
   "cell_type": "code",
   "execution_count": 9,
   "metadata": {},
   "outputs": [
    {
     "data": {
      "image/png": "[encoded data removed]",
      "text/plain": [
       "<Figure size 432x288 with 1 Axes>"
      ]
     },
     "metadata": {
      "needs_background": "light"
     },
     "output_type": "display_data"
    },
    {
     "data": {
      "text/plain": [
       "Text(0.5, 0, 'Published Books According To Years')"
      ]
     },
     "execution_count": 9,
     "metadata": {},
     "output_type": "execute_result"
    },
    {
     "data": {
      "image/png": "[encoded data removed]",
      "text/plain": [
       "<Figure size 432x288 with 1 Axes>"
      ]
     },
     "metadata": {
      "needs_background": "light"
     },
     "output_type": "display_data"
    }
   ],
   "source": [
    "#print(books.toPandas()['original_publication_year'].unique().shape)\n",
    "books_pandas = books.toPandas()\n",
    "l1_count = books_pandas[(books_pandas['original_publication_year'] >= 1800) & (books_pandas['original_publication_year'] < 1850)]\n",
    "l2_count = books_pandas[(books_pandas['original_publication_year'] >= 1850) & (books_pandas['original_publication_year'] < 1900)]\n",
    "l3_count = books_pandas[(books_pandas['original_publication_year'] >= 1900) & (books_pandas['original_publication_year'] < 1950)]\n",
    "l4_count = books_pandas[(books_pandas['original_publication_year'] >= 1950) & (books_pandas['original_publication_year'] < 2000)]\n",
    "l5_count = books_pandas[(books_pandas['original_publication_year'] >= 2000) & (books_pandas['original_publication_year'] < 2020)]\n",
    "\n",
    "height = [l1_count.shape[0], l2_count.shape[0], l3_count.shape[0], l4_count.shape[0], l5_count.shape[0]]\n",
    " \n",
    "bars = ('1800-1850', '1850-1900', '1900-1950', '1950-2000', '2000-2020')\n",
    "y_pos = np.arange(len(bars))\n",
    " \n",
    "plt.bar(y_pos, height)\n",
    " \n",
    "plt.xticks(y_pos, bars, color='blue')\n",
    "plt.yticks(color='blue')\n",
    "plt.xlabel('Published Books According To Years', fontweight='bold', color = 'orange', fontsize='18')\n",
    "\n",
    "plt.show()\n",
    "\n",
    "# print line plot.\n",
    "fig, ax = plt.subplots()  # Create a figure containing a single axes.\n",
    "ax.plot([1, 2, 3, 4, 5], [l1_count.shape[0], l2_count.shape[0], l3_count.shape[0], l4_count.shape[0], l5_count.shape[0]])  # Plot some data on the axes.\n",
    "plt.xlabel('Published Books According To Years', fontweight='bold', color = 'orange', fontsize='18')\n",
    "\n"
   ]
  },
  {
   "cell_type": "code",
   "execution_count": 10,
   "metadata": {},
   "outputs": [],
   "source": [
    "training, validation = ratings.randomSplit([.7,.3])"
   ]
  },
  {
   "cell_type": "code",
   "execution_count": 11,
   "metadata": {},
   "outputs": [
    {
     "name": "stderr",
     "output_type": "stream",
     "text": [
      "23/12/19 14:10:36 WARN InstanceBuilder: Failed to load implementation from:dev.ludovic.netlib.blas.JNIBLAS\n",
      "23/12/19 14:10:36 WARN InstanceBuilder: Failed to load implementation from:dev.ludovic.netlib.blas.VectorBLAS\n",
      "23/12/19 14:10:36 WARN InstanceBuilder: Failed to load implementation from:dev.ludovic.netlib.lapack.JNILAPACK\n",
      "[Stage 45:>                                                         (0 + 1) / 1]\r"
     ]
    },
    {
     "name": "stdout",
     "output_type": "stream",
     "text": [
      "Mean Squared Error =16.553505205864397\n"
     ]
    },
    {
     "name": "stderr",
     "output_type": "stream",
     "text": [
      "                                                                                \r"
     ]
    }
   ],
   "source": [
    "als =ALS(maxIter=2,regParam=0.01, rank=10, seed=5033, userCol=\"user_id\", itemCol=\"book_id\", ratingCol=\"rating\")\n",
    "model = als.fit(training)\n",
    "predictions= model.transform(validation)\n",
    "new_predictions=predictions.filter(col('prediction') != np.nan)\n",
    "evaluator = RegressionEvaluator(metricName='mse',labelCol=\"rating\",predictionCol=\"prediction\")\n",
    "mse = evaluator.evaluate(new_predictions)\n",
    "print(\"Mean Squared Error =\" + str(mse))"
   ]
  },
  {
   "cell_type": "code",
   "execution_count": 12,
   "metadata": {},
   "outputs": [
    {
     "name": "stderr",
     "output_type": "stream",
     "text": [
      "[Stage 55:===============> (9 + 1) / 10][Stage 59:>                 (0 + 0) / 1]\r"
     ]
    },
    {
     "name": "stdout",
     "output_type": "stream",
     "text": [
      "+-------+-------+------+----------+\n",
      "|book_id|user_id|rating|prediction|\n",
      "+-------+-------+------+----------+\n",
      "|      1|   2077|     4| 4.6486373|\n",
      "|      1|   2487|     4| 4.2219725|\n",
      "|      1|   2900|     5| 5.1530986|\n",
      "|      1|   5379|     5| 4.9596972|\n",
      "|      1|   9246|     1| 3.5410864|\n",
      "|      1|  10140|     4| 3.7206056|\n",
      "|      1|  13544|     5|  4.460279|\n",
      "|      1|  16913|     5| 4.7431464|\n",
      "|      1|  18361|     4|  4.510079|\n",
      "|      1|  21487|     4|  4.661577|\n",
      "+-------+-------+------+----------+\n",
      "only showing top 10 rows\n",
      "\n"
     ]
    },
    {
     "name": "stderr",
     "output_type": "stream",
     "text": [
      "                                                                                \r"
     ]
    }
   ],
   "source": [
    "predictions = model.transform(validation)\n",
    "predictions.show(n=10)"
   ]
  },
  {
   "cell_type": "code",
   "execution_count": 13,
   "metadata": {},
   "outputs": [
    {
     "name": "stderr",
     "output_type": "stream",
     "text": [
      "                                                                                \r"
     ]
    }
   ],
   "source": [
    "pred_arr = predictions.toPandas()"
   ]
  },
  {
   "cell_type": "code",
   "execution_count": 14,
   "metadata": {},
   "outputs": [
    {
     "data": {
      "image/png": "[encoded data removed]",
      "text/plain": [
       "<Figure size 432x288 with 1 Axes>"
      ]
     },
     "metadata": {
      "needs_background": "light"
     },
     "output_type": "display_data"
    }
   ],
   "source": [
    "bars1 = []\n",
    "bars2 = []\n",
    "\n",
    "for i in range(5):\n",
    "    bars1.append(pred_arr['rating'][i])\n",
    "    bars2.append(pred_arr['prediction'][i])\n",
    "\n",
    "barWidth = 0.3\n",
    " \n",
    "yer1 = [0.5, 0.4, 0.5]\n",
    "yer2 = [1, 0.7, 1]\n",
    " \n",
    "r1 = np.arange(len(bars1))\n",
    "r2 = [x + barWidth for x in r1]\n",
    " \n",
    "plt.bar(r1, bars1, width = barWidth, color = 'blue', edgecolor = 'black', capsize=7, label='Rating')\n",
    "plt.bar(r2, bars2, width = barWidth, color = 'orange', edgecolor = 'black', capsize=7, label='Predictione')\n",
    " \n",
    "plt.xticks([r + barWidth for r in range(len(bars1))], ['Prediction_1', 'Prediction_2', 'Prediction_3', 'Prediction_4', 'Prediction_5'])\n",
    "plt.ylabel('Rating')\n",
    "plt.legend()\n",
    " \n",
    "plt.show()"
   ]
  },
  {
   "cell_type": "code",
   "execution_count": 15,
   "metadata": {},
   "outputs": [
    {
     "name": "stderr",
     "output_type": "stream",
     "text": [
      "                                                                                \r"
     ]
    },
    {
     "name": "stdout",
     "output_type": "stream",
     "text": [
      "Mean Squared Error =1.059908568286947\n"
     ]
    },
    {
     "name": "stderr",
     "output_type": "stream",
     "text": [
      "                                                                                \r"
     ]
    }
   ],
   "source": [
    "als =ALS(maxIter=5,regParam=0.1, rank=10, seed=5033, userCol=\"user_id\", itemCol=\"book_id\", ratingCol=\"rating\")\n",
    "model = als.fit(training)\n",
    "predictions= model.transform(validation)\n",
    "new_predictions=predictions.filter(col('prediction') != np.nan)\n",
    "evaluator = RegressionEvaluator(metricName='mse',labelCol=\"rating\",predictionCol=\"prediction\")\n",
    "mse = evaluator.evaluate(new_predictions)\n",
    "print(\"Mean Squared Error =\" + str(mse))"
   ]
  },
  {
   "cell_type": "code",
   "execution_count": 16,
   "metadata": {},
   "outputs": [
    {
     "name": "stderr",
     "output_type": "stream",
     "text": [
      "[Stage 162:============>   (8 + 1) / 10][Stage 166:>                (0 + 0) / 1]\r"
     ]
    },
    {
     "name": "stdout",
     "output_type": "stream",
     "text": [
      "+-------+-------+------+----------+\n",
      "|book_id|user_id|rating|prediction|\n",
      "+-------+-------+------+----------+\n",
      "|      1|   2077|     4|  3.381993|\n",
      "|      1|   2487|     4| 3.8131998|\n",
      "|      1|   2900|     5|  4.550149|\n",
      "|      1|   5379|     5|  4.584486|\n",
      "|      1|   9246|     1| 3.2708013|\n",
      "|      1|  10140|     4| 3.3992522|\n",
      "|      1|  13544|     5|  4.481768|\n",
      "|      1|  16913|     5| 4.2602262|\n",
      "|      1|  18361|     4|  4.501608|\n",
      "|      1|  21487|     4|  4.142337|\n",
      "+-------+-------+------+----------+\n",
      "only showing top 10 rows\n",
      "\n"
     ]
    },
    {
     "name": "stderr",
     "output_type": "stream",
     "text": [
      "                                                                                \r"
     ]
    }
   ],
   "source": [
    "predictions = model.transform(validation)\n",
    "predictions.show(n=10)"
   ]
  },
  {
   "cell_type": "code",
   "execution_count": 17,
   "metadata": {},
   "outputs": [
    {
     "name": "stderr",
     "output_type": "stream",
     "text": [
      "                                                                                \r"
     ]
    }
   ],
   "source": [
    "pred_arr = predictions.toPandas()"
   ]
  },
  {
   "cell_type": "code",
   "execution_count": 18,
   "metadata": {},
   "outputs": [
    {
     "data": {
      "image/png": "[encoded data removed]",
      "text/plain": [
       "<Figure size 432x288 with 1 Axes>"
      ]
     },
     "metadata": {
      "needs_background": "light"
     },
     "output_type": "display_data"
    }
   ],
   "source": [
    "bars1 = []\n",
    "bars2 = []\n",
    "\n",
    "for i in range(5):\n",
    "    bars1.append(pred_arr['rating'][i])\n",
    "    bars2.append(pred_arr['prediction'][i])\n",
    "\n",
    "barWidth = 0.3\n",
    " \n",
    "yer1 = [0.5, 0.4, 0.5]\n",
    "yer2 = [1, 0.7, 1]\n",
    " \n",
    "r1 = np.arange(len(bars1))\n",
    "r2 = [x + barWidth for x in r1]\n",
    " \n",
    "plt.bar(r1, bars1, width = barWidth, color = 'blue', edgecolor = 'black', capsize=7, label='Rating')\n",
    "plt.bar(r2, bars2, width = barWidth, color = 'orange', edgecolor = 'black', capsize=7, label='Predictione')\n",
    " \n",
    "plt.xticks([r + barWidth for r in range(len(bars1))], ['Prediction_1', 'Prediction_2', 'Prediction_3', 'Prediction_4', 'Prediction_5'])\n",
    "plt.ylabel('Rating')\n",
    "plt.legend()\n",
    " \n",
    "plt.show()"
   ]
  },
  {
   "cell_type": "code",
   "execution_count": 19,
   "metadata": {},
   "outputs": [
    {
     "name": "stderr",
     "output_type": "stream",
     "text": [
      "[Stage 297:>                                                        (0 + 1) / 1]\r"
     ]
    },
    {
     "name": "stdout",
     "output_type": "stream",
     "text": [
      "Mean Squared Error =0.8542219423945872\n"
     ]
    },
    {
     "name": "stderr",
     "output_type": "stream",
     "text": [
      "                                                                                \r"
     ]
    }
   ],
   "source": [
    "als =ALS(maxIter=7,regParam=0.1, rank=50, seed=5033, userCol=\"user_id\", itemCol=\"book_id\", ratingCol=\"rating\")\n",
    "model = als.fit(training)\n",
    "predictions= model.transform(validation)\n",
    "new_predictions=predictions.filter(col('prediction') != np.nan)\n",
    "evaluator = RegressionEvaluator(metricName='mse',labelCol=\"rating\",predictionCol=\"prediction\")\n",
    "mse = evaluator.evaluate(new_predictions)\n",
    "print(\"Mean Squared Error =\" + str(mse))"
   ]
  },
  {
   "cell_type": "code",
   "execution_count": 20,
   "metadata": {},
   "outputs": [
    {
     "name": "stderr",
     "output_type": "stream",
     "text": [
      "[Stage 317:===========>    (7 + 1) / 10][Stage 321:>                (0 + 0) / 1]\r"
     ]
    },
    {
     "name": "stdout",
     "output_type": "stream",
     "text": [
      "+-------+-------+------+----------+\n",
      "|book_id|user_id|rating|prediction|\n",
      "+-------+-------+------+----------+\n",
      "|      1|   2077|     4|  3.608637|\n",
      "|      1|   2487|     4| 3.6337185|\n",
      "|      1|   2900|     5| 4.5546184|\n",
      "|      1|   5379|     5| 4.3425703|\n",
      "|      1|   9246|     1| 3.3290753|\n",
      "|      1|  10140|     4| 3.6078258|\n",
      "|      1|  13544|     5| 4.5421185|\n",
      "|      1|  16913|     5|  4.308497|\n",
      "|      1|  18361|     4| 4.4152455|\n",
      "|      1|  21487|     4|  4.119829|\n",
      "+-------+-------+------+----------+\n",
      "only showing top 10 rows\n",
      "\n"
     ]
    },
    {
     "name": "stderr",
     "output_type": "stream",
     "text": [
      "                                                                                \r"
     ]
    }
   ],
   "source": [
    "predictions = model.transform(validation)\n",
    "predictions.show(n=10)"
   ]
  },
  {
   "cell_type": "code",
   "execution_count": 21,
   "metadata": {},
   "outputs": [
    {
     "name": "stderr",
     "output_type": "stream",
     "text": [
      "                                                                                \r"
     ]
    }
   ],
   "source": [
    "pred_arr = predictions.toPandas()"
   ]
  },
  {
   "cell_type": "code",
   "execution_count": 22,
   "metadata": {},
   "outputs": [
    {
     "data": {
      "image/png": "[encoded data removed]",
      "text/plain": [
       "<Figure size 432x288 with 1 Axes>"
      ]
     },
     "metadata": {
      "needs_background": "light"
     },
     "output_type": "display_data"
    }
   ],
   "source": [
    "bars1 = []\n",
    "bars2 = []\n",
    "\n",
    "for i in range(5):\n",
    "    bars1.append(pred_arr['rating'][i])\n",
    "    bars2.append(pred_arr['prediction'][i])\n",
    "\n",
    "barWidth = 0.3\n",
    " \n",
    "yer1 = [0.5, 0.4, 0.5]\n",
    "yer2 = [1, 0.7, 1]\n",
    " \n",
    "r1 = np.arange(len(bars1))\n",
    "r2 = [x + barWidth for x in r1]\n",
    " \n",
    "plt.bar(r1, bars1, width = barWidth, color = 'blue', edgecolor = 'black', capsize=7, label='Rating')\n",
    "plt.bar(r2, bars2, width = barWidth, color = 'orange', edgecolor = 'black', capsize=7, label='Predictione')\n",
    " \n",
    "plt.xticks([r + barWidth for r in range(len(bars1))], ['Prediction_1', 'Prediction_2', 'Prediction_3', 'Prediction_4', 'Prediction_5'])\n",
    "plt.ylabel('Rating')\n",
    "plt.legend()\n",
    " \n",
    "plt.show()"
   ]
  },
  {
   "cell_type": "code",
   "execution_count": 23,
   "metadata": {},
   "outputs": [
    {
     "name": "stderr",
     "output_type": "stream",
     "text": [
      "[Stage 504:============================>                            (1 + 1) / 2]\r"
     ]
    },
    {
     "name": "stdout",
     "output_type": "stream",
     "text": [
      "Mean Squared Error =0.9104310067631112\n"
     ]
    },
    {
     "name": "stderr",
     "output_type": "stream",
     "text": [
      "                                                                                \r"
     ]
    }
   ],
   "source": [
    "als =ALS(maxIter=10,regParam=0.01, rank=100, seed=5033, userCol=\"user_id\", itemCol=\"book_id\", ratingCol=\"rating\")\n",
    "model = als.fit(training)\n",
    "predictions= model.transform(validation)\n",
    "new_predictions=predictions.filter(col('prediction') != np.nan)\n",
    "evaluator = RegressionEvaluator(metricName='mse',labelCol=\"rating\",predictionCol=\"prediction\")\n",
    "mse = evaluator.evaluate(new_predictions)\n",
    "print(\"Mean Squared Error =\" + str(mse))"
   ]
  },
  {
   "cell_type": "code",
   "execution_count": 24,
   "metadata": {},
   "outputs": [
    {
     "name": "stderr",
     "output_type": "stream",
     "text": [
      "[Stage 530:============>   (8 + 1) / 10][Stage 534:>                (0 + 0) / 1]\r"
     ]
    },
    {
     "name": "stdout",
     "output_type": "stream",
     "text": [
      "+-------+-------+------+----------+\n",
      "|book_id|user_id|rating|prediction|\n",
      "+-------+-------+------+----------+\n",
      "|      1|   2077|     4| 2.5967736|\n",
      "|      1|   2487|     4| 3.0640447|\n",
      "|      1|   2900|     5| 3.8602357|\n",
      "|      1|   5379|     5| 4.4412518|\n",
      "|      1|   9246|     1| 3.0092092|\n",
      "|      1|  10140|     4| 4.3869557|\n",
      "|      1|  13544|     5| 4.2768254|\n",
      "|      1|  16913|     5|  3.775726|\n",
      "|      1|  18361|     4|  4.477097|\n",
      "|      1|  21487|     4| 4.6634073|\n",
      "+-------+-------+------+----------+\n",
      "only showing top 10 rows\n",
      "\n"
     ]
    },
    {
     "name": "stderr",
     "output_type": "stream",
     "text": [
      "                                                                                \r"
     ]
    }
   ],
   "source": [
    "predictions = model.transform(validation)\n",
    "predictions.show(n=10)"
   ]
  },
  {
   "cell_type": "code",
   "execution_count": 25,
   "metadata": {},
   "outputs": [
    {
     "name": "stderr",
     "output_type": "stream",
     "text": [
      "                                                                                \r"
     ]
    }
   ],
   "source": [
    "pred_arr = predictions.toPandas()"
   ]
  },
  {
   "cell_type": "code",
   "execution_count": 26,
   "metadata": {},
   "outputs": [
    {
     "data": {
      "image/png": "[encoded data removed]",
      "text/plain": [
       "<Figure size 432x288 with 1 Axes>"
      ]
     },
     "metadata": {
      "needs_background": "light"
     },
     "output_type": "display_data"
    }
   ],
   "source": [
    "bars1 = []\n",
    "bars2 = []\n",
    "\n",
    "for i in range(5):\n",
    "    bars1.append(pred_arr['rating'][i])\n",
    "    bars2.append(pred_arr['prediction'][i])\n",
    "\n",
    "barWidth = 0.3\n",
    " \n",
    "yer1 = [0.5, 0.4, 0.5]\n",
    "yer2 = [1, 0.7, 1]\n",
    " \n",
    "r1 = np.arange(len(bars1))\n",
    "r2 = [x + barWidth for x in r1]\n",
    " \n",
    "plt.bar(r1, bars1, width = barWidth, color = 'blue', edgecolor = 'black', capsize=7, label='Rating')\n",
    "plt.bar(r2, bars2, width = barWidth, color = 'orange', edgecolor = 'black', capsize=7, label='Predictione')\n",
    " \n",
    "plt.xticks([r + barWidth for r in range(len(bars1))], ['Prediction_1', 'Prediction_2', 'Prediction_3', 'Prediction_4', 'Prediction_5'])\n",
    "plt.ylabel('Rating')\n",
    "plt.legend()\n",
    " \n",
    "plt.show()"
   ]
  },
  {
   "cell_type": "code",
   "execution_count": 27,
   "metadata": {},
   "outputs": [
    {
     "name": "stderr",
     "output_type": "stream",
     "text": [
      "[Stage 653:>                (0 + 1) / 1][Stage 655:>                (0 + 0) / 1]\r"
     ]
    },
    {
     "name": "stdout",
     "output_type": "stream",
     "text": [
      "+-------+-----------------+----------+\n",
      "|user_id|            title|prediction|\n",
      "+-------+-----------------+----------+\n",
      "|    859|       Lysistrata| 3.2062964|\n",
      "|   1291| The Fountainhead| 3.0014052|\n",
      "|   1374|       Lysistrata|  3.851608|\n",
      "|   1855|Heart of Darkness| 3.4440374|\n",
      "|   2327|Heart of Darkness| 3.7563105|\n",
      "+-------+-----------------+----------+\n",
      "only showing top 5 rows\n",
      "\n"
     ]
    },
    {
     "name": "stderr",
     "output_type": "stream",
     "text": [
      "                                                                                \r"
     ]
    }
   ],
   "source": [
    "predictions.join(books, \"book_id\").select(\"user_id\",\"title\",\"prediction\").show(5)"
   ]
  },
  {
   "cell_type": "code",
   "execution_count": 28,
   "metadata": {},
   "outputs": [],
   "source": [
    "forOneUser = predictions.filter(col(\"user_id\")==35982).join(books,\"book_id\").select(\"user_id\",\"title\",\"image_url\",\"prediction\")"
   ]
  },
  {
   "cell_type": "code",
   "execution_count": 29,
   "metadata": {},
   "outputs": [
    {
     "name": "stderr",
     "output_type": "stream",
     "text": [
      "                                                                                \r"
     ]
    },
    {
     "data": {
      "text/plain": [
       "5"
      ]
     },
     "execution_count": 29,
     "metadata": {},
     "output_type": "execute_result"
    }
   ],
   "source": [
    "forOneUser.count()"
   ]
  },
  {
   "cell_type": "code",
   "execution_count": 30,
   "metadata": {},
   "outputs": [
    {
     "name": "stderr",
     "output_type": "stream",
     "text": [
      "                                                                                \r"
     ]
    },
    {
     "name": "stdout",
     "output_type": "stream",
     "text": [
      "+-------+--------------------+--------------------+----------+\n",
      "|user_id|               title|           image_url|prediction|\n",
      "+-------+--------------------+--------------------+----------+\n",
      "|  35982|The Innocent Man:...|https://s.gr-asse...| 1.7509767|\n",
      "|  35982|The Door Into Summer|https://images.gr...| 1.7794337|\n",
      "|  35982|  Great Expectations|https://images.gr...| 2.2799687|\n",
      "|  35982|       Metamorphoses|https://s.gr-asse...|  2.939971|\n",
      "|  35982|J.R.R. Tolkien 4-...|https://images.gr...| 2.2897038|\n",
      "+-------+--------------------+--------------------+----------+\n",
      "\n"
     ]
    }
   ],
   "source": [
    "forOneUser.show()"
   ]
  },
  {
   "cell_type": "code",
   "execution_count": 31,
   "metadata": {},
   "outputs": [
    {
     "name": "stderr",
     "output_type": "stream",
     "text": [
      "                                                                                \r"
     ]
    },
    {
     "name": "stdout",
     "output_type": "stream",
     "text": [
      "The Innocent Man: Murder and Injustice in a Small Town\n"
     ]
    },
    {
     "data": {
      "text/html": [
       "<img src=\"https://s.gr-assets.com/assets/nophoto/book/111x148-bcc042a9c91a29c1d680899eff700a03.png\"/>"
      ],
      "text/plain": [
       "<IPython.core.display.Image object>"
      ]
     },
     "metadata": {},
     "output_type": "display_data"
    },
    {
     "name": "stdout",
     "output_type": "stream",
     "text": [
      "The Door Into Summer\n"
     ]
    },
    {
     "data": {
      "text/html": [
       "<img src=\"https://images.gr-assets.com/books/1342241886m/348.jpg\"/>"
      ],
      "text/plain": [
       "<IPython.core.display.Image object>"
      ]
     },
     "metadata": {},
     "output_type": "display_data"
    },
    {
     "name": "stdout",
     "output_type": "stream",
     "text": [
      "Great Expectations\n"
     ]
    },
    {
     "data": {
      "text/html": [
       "<img src=\"https://images.gr-assets.com/books/1327920219m/2623.jpg\"/>"
      ],
      "text/plain": [
       "<IPython.core.display.Image object>"
      ]
     },
     "metadata": {},
     "output_type": "display_data"
    },
    {
     "name": "stdout",
     "output_type": "stream",
     "text": [
      "Metamorphoses\n"
     ]
    },
    {
     "data": {
      "text/html": [
       "<img src=\"https://s.gr-assets.com/assets/nophoto/book/111x148-bcc042a9c91a29c1d680899eff700a03.png\"/>"
      ],
      "text/plain": [
       "<IPython.core.display.Image object>"
      ]
     },
     "metadata": {},
     "output_type": "display_data"
    },
    {
     "name": "stdout",
     "output_type": "stream",
     "text": [
      "J.R.R. Tolkien 4-Book Boxed Set: The Hobbit and The Lord of the Rings\n"
     ]
    },
    {
     "data": {
      "text/html": [
       "<img src=\"https://images.gr-assets.com/books/1346072396m/30.jpg\"/>"
      ],
      "text/plain": [
       "<IPython.core.display.Image object>"
      ]
     },
     "metadata": {},
     "output_type": "display_data"
    }
   ],
   "source": [
    "from IPython.display import display\n",
    "from IPython.display import Image\n",
    "for book in forOneUser.take(10):\n",
    "    print(book.title)\n",
    "    display(Image(url=book.image_url))"
   ]
  },
  {
   "cell_type": "code",
   "execution_count": 32,
   "metadata": {},
   "outputs": [],
   "source": [
    "#Generate top 5 books recommendations for each user\n",
    "userRecomments = model.recommendForAllUsers(5)\n",
    "#Generate top 5 user recommendations for each book\n",
    "bookRecomments = model.recommendForAllItems(5)"
   ]
  },
  {
   "cell_type": "code",
   "execution_count": 33,
   "metadata": {},
   "outputs": [
    {
     "name": "stderr",
     "output_type": "stream",
     "text": [
      "[Stage 914:=====================================================>(99 + 1) / 100]\r"
     ]
    },
    {
     "name": "stdout",
     "output_type": "stream",
     "text": [
      "+-------+------------------------------+\n",
      "|user_id|book_id                       |\n",
      "+-------+------------------------------+\n",
      "|1      |[1180, 7844, 8013, 4778, 6583]|\n",
      "|2      |[9529, 7844, 9249, 4366, 6583]|\n",
      "|3      |[9014, 7337, 4366, 7844, 7920]|\n",
      "|4      |[8464, 9566, 7844, 9842, 7117]|\n",
      "|5      |[7487, 9842, 6659, 8333, 6583]|\n",
      "|6      |[7844, 8033, 6884, 7902, 6400]|\n",
      "|7      |[4336, 1462, 8320, 3314, 5993]|\n",
      "|8      |[7117, 7947, 9566, 4778, 7844]|\n",
      "|9      |[3885, 8362, 8233, 8676, 8323]|\n",
      "|10     |[8595, 6590, 3753, 8013, 6920]|\n",
      "+-------+------------------------------+\n",
      "only showing top 10 rows\n",
      "\n"
     ]
    },
    {
     "name": "stderr",
     "output_type": "stream",
     "text": [
      "                                                                                \r"
     ]
    }
   ],
   "source": [
    "userRecomments.select(\"user_id\",\"recommendations.book_id\").show(10,False)"
   ]
  },
  {
   "cell_type": "code",
   "execution_count": 34,
   "metadata": {},
   "outputs": [
    {
     "name": "stdout",
     "output_type": "stream",
     "text": [
      "root\n",
      " |-- user_id: integer (nullable = false)\n",
      " |-- recommendations: array (nullable = true)\n",
      " |    |-- element: struct (containsNull = true)\n",
      " |    |    |-- book_id: integer (nullable = true)\n",
      " |    |    |-- rating: float (nullable = true)\n",
      "\n"
     ]
    }
   ],
   "source": [
    "userRecomments.printSchema()"
   ]
  },
  {
   "cell_type": "code",
   "execution_count": 35,
   "metadata": {},
   "outputs": [
    {
     "name": "stderr",
     "output_type": "stream",
     "text": [
      "[Stage 963:=====================================================>(99 + 1) / 100]\r"
     ]
    },
    {
     "name": "stdout",
     "output_type": "stream",
     "text": [
      "+-------+-----------------------------------+\n",
      "|book_id|user_id                            |\n",
      "+-------+-----------------------------------+\n",
      "|1      |[22740, 8400, 21447, 20634, 33093] |\n",
      "|2      |[36919, 22740, 8222, 1794, 19984]  |\n",
      "|3      |[7443, 40566, 32918, 49288, 18492] |\n",
      "|4      |[51235, 19984, 46524, 50266, 22740]|\n",
      "|5      |[46524, 17703, 16750, 51235, 11489]|\n",
      "|6      |[32346, 29132, 9752, 27585, 39879] |\n",
      "|7      |[1456, 15082, 8222, 46524, 43692]  |\n",
      "|8      |[51235, 49631, 26753, 36919, 9142] |\n",
      "|9      |[8444, 3445, 20814, 13697, 31887]  |\n",
      "|10     |[47756, 6097, 17703, 52366, 10011] |\n",
      "+-------+-----------------------------------+\n",
      "only showing top 10 rows\n",
      "\n"
     ]
    },
    {
     "name": "stderr",
     "output_type": "stream",
     "text": [
      "                                                                                \r"
     ]
    }
   ],
   "source": [
    "bookRecomments.select(\"book_id\",\"recommendations.user_id\").show(10,False)"
   ]
  },
  {
   "cell_type": "code",
   "execution_count": 36,
   "metadata": {},
   "outputs": [
    {
     "name": "stderr",
     "output_type": "stream",
     "text": [
      "[Stage 989:>                                                        (0 + 1) / 1]\r"
     ]
    },
    {
     "name": "stdout",
     "output_type": "stream",
     "text": [
      "+-------+\n",
      "|user_id|\n",
      "+-------+\n",
      "|  32592|\n",
      "|  19984|\n",
      "|  35982|\n",
      "+-------+\n",
      "\n"
     ]
    },
    {
     "name": "stderr",
     "output_type": "stream",
     "text": [
      "                                                                                \r"
     ]
    }
   ],
   "source": [
    "#Generate top 10 book recommendations for a specified set of users\n",
    "users = ratings.select(\"user_id\").distinct().limit(3);\n",
    "users.show()"
   ]
  },
  {
   "cell_type": "code",
   "execution_count": 37,
   "metadata": {},
   "outputs": [],
   "source": [
    "userSubsetRecs = model.recommendForUserSubset(users,10)"
   ]
  },
  {
   "cell_type": "code",
   "execution_count": 38,
   "metadata": {},
   "outputs": [
    {
     "name": "stderr",
     "output_type": "stream",
     "text": [
      "[Stage 1021:=========================================>           (79 + 1) / 100]\r"
     ]
    }
   ],
   "source": [
    "userSubsetRecs.show()"
   ]
  },
  {
   "cell_type": "code",
   "execution_count": null,
   "metadata": {},
   "outputs": [
    {
     "name": "stdout",
     "output_type": "stream",
     "text": [
      "+-------+------------------------------------------------------------+\n",
      "|user_id|book_id                                                     |\n",
      "+-------+------------------------------------------------------------+\n",
      "|32592  |[3753, 9076, 1597, 6902, 1308, 862, 1274, 2101, 3628, 4868] |\n",
      "|35982  |[983, 5580, 5207, 7254, 3628, 7593, 1788, 6590, 2869, 6361] |\n",
      "|19984  |[3753, 9076, 6902, 9842, 8548, 3628, 6920, 3491, 1618, 1010]|\n",
      "+-------+------------------------------------------------------------+\n",
      "\n"
     ]
    }
   ],
   "source": [
    "userSubsetRecs.select(\"user_id\",\"recommendations.book_id\").show(10,False)"
   ]
  },
  {
   "cell_type": "code",
   "execution_count": null,
   "metadata": {},
   "outputs": [
    {
     "name": "stdout",
     "output_type": "stream",
     "text": [
      "+-------+\n",
      "|book_id|\n",
      "+-------+\n",
      "|    148|\n",
      "|    463|\n",
      "|    471|\n",
      "+-------+\n",
      "\n"
     ]
    }
   ],
   "source": [
    "#Generate top 10 user recommendations for a specified set of books\n",
    "book1 = ratings.select(\"book_id\").distinct().limit(3)\n",
    "book1.show()"
   ]
  },
  {
   "cell_type": "code",
   "execution_count": null,
   "metadata": {},
   "outputs": [
    {
     "name": "stdout",
     "output_type": "stream",
     "text": [
      "+-------+----------------------------------------------------------------------+\n",
      "|book_id|user_id                                                               |\n",
      "+-------+----------------------------------------------------------------------+\n",
      "|471    |[12912, 22313, 13006, 18102, 4134, 30184, 19941, 24073, 33099, 33969] |\n",
      "|463    |[22313, 44191, 49830, 41421, 19137, 52469, 42125, 22186, 39979, 30653]|\n",
      "|148    |[22313, 11193, 13006, 33969, 7868, 46421, 8643, 19984, 32996, 23487]  |\n",
      "+-------+----------------------------------------------------------------------+\n",
      "\n"
     ]
    }
   ],
   "source": [
    "bookSubSetRecs = model.recommendForItemSubset(book1, 10)\n",
    "bookSubSetRecs.select(\"book_id\",\"recommendations.user_id\").show(10,False)"
   ]
  },
  {
   "cell_type": "code",
   "execution_count": null,
   "metadata": {},
   "outputs": [],
   "source": [
    "#Prediction for a user and match with to-read list\n",
    "book_ids = [860,1524,2885,2914,5297,7397,8802,9506]\n",
    "user_ids = [4917,4917,4917,4917,4917,4917,4917,4917]\n",
    "new_user_preds = sqlContext.createDataFrame(zip(book_ids,user_ids), schema = ['book_id','user_id'])"
   ]
  },
  {
   "cell_type": "code",
   "execution_count": null,
   "metadata": {},
   "outputs": [
    {
     "name": "stdout",
     "output_type": "stream",
     "text": [
      "+-------+-------+\n",
      "|book_id|user_id|\n",
      "+-------+-------+\n",
      "|    860|   4917|\n",
      "|   1524|   4917|\n",
      "|   2885|   4917|\n",
      "|   2914|   4917|\n",
      "|   5297|   4917|\n",
      "|   7397|   4917|\n",
      "|   8802|   4917|\n",
      "|   9506|   4917|\n",
      "+-------+-------+\n",
      "\n"
     ]
    }
   ],
   "source": [
    "new_user_preds.show()"
   ]
  },
  {
   "cell_type": "code",
   "execution_count": null,
   "metadata": {},
   "outputs": [
    {
     "name": "stdout",
     "output_type": "stream",
     "text": [
      "+-------+-------+----------+\n",
      "|book_id|user_id|prediction|\n",
      "+-------+-------+----------+\n",
      "|   2914|   4917| 2.8714437|\n",
      "|    860|   4917| 3.5368922|\n",
      "|   2885|   4917|  3.168972|\n",
      "|   7397|   4917| 3.0444274|\n",
      "|   8802|   4917| 3.2045946|\n",
      "|   9506|   4917|  3.124133|\n",
      "|   1524|   4917| 3.6029627|\n",
      "|   5297|   4917|  3.391838|\n",
      "+-------+-------+----------+\n",
      "\n"
     ]
    }
   ],
   "source": [
    "new_predictions = model.transform(new_user_preds)\n",
    "new_predictions.show()"
   ]
  },
  {
   "cell_type": "code",
   "execution_count": null,
   "metadata": {},
   "outputs": [],
   "source": []
  }
 ],
 "metadata": {
  "kernelspec": {
   "display_name": "Python 3",
   "language": "python",
   "name": "python3"
  },
  "language_info": {
   "codemirror_mode": {
    "name": "ipython",
    "version": 3
   },
   "file_extension": ".py",
   "mimetype": "text/x-python",
   "name": "python",
   "nbconvert_exporter": "python",
   "pygments_lexer": "ipython3",
   "version": "3.9.12"
  }
 },
 "nbformat": 4,
 "nbformat_minor": 4
}
